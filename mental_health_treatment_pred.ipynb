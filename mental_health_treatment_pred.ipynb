{
 "cells": [
  {
   "cell_type": "code",
   "execution_count": 2,
   "metadata": {
    "id": "NcNojZYbZjYX"
   },
   "outputs": [],
   "source": [
    "import pandas as pd"
   ]
  },
  {
   "cell_type": "code",
   "execution_count": 3,
   "metadata": {
    "id": "4q5QHmIUcrFl"
   },
   "outputs": [],
   "source": [
    "import numpy as np\n"
   ]
  },
  {
   "cell_type": "code",
   "execution_count": 5,
   "metadata": {
    "id": "wp2qDqj7csiL"
   },
   "outputs": [],
   "source": [
    "df = pd.read_csv(\"Mental_Health_Dataset.csv\",encoding='latin-1')"
   ]
  },
  {
   "cell_type": "code",
   "execution_count": 6,
   "metadata": {
    "colab": {
     "base_uri": "https://localhost:8080/",
     "height": 313
    },
    "executionInfo": {
     "elapsed": 33,
     "status": "ok",
     "timestamp": 1754368658130,
     "user": {
      "displayName": "Raj Parmar",
      "userId": "13547741718900353635"
     },
     "user_tz": -330
    },
    "id": "6iOMWz8Tc1kM",
    "outputId": "45140f84-83a9-4dc3-ccd3-ea1385f14a83"
   },
   "outputs": [
    {
     "data": {
      "text/html": [
       "<div>\n",
       "<style scoped>\n",
       "    .dataframe tbody tr th:only-of-type {\n",
       "        vertical-align: middle;\n",
       "    }\n",
       "\n",
       "    .dataframe tbody tr th {\n",
       "        vertical-align: top;\n",
       "    }\n",
       "\n",
       "    .dataframe thead th {\n",
       "        text-align: right;\n",
       "    }\n",
       "</style>\n",
       "<table border=\"1\" class=\"dataframe\">\n",
       "  <thead>\n",
       "    <tr style=\"text-align: right;\">\n",
       "      <th></th>\n",
       "      <th>Timestamp</th>\n",
       "      <th>Gender</th>\n",
       "      <th>Country</th>\n",
       "      <th>Occupation</th>\n",
       "      <th>self_employed</th>\n",
       "      <th>family_history</th>\n",
       "      <th>treatment</th>\n",
       "      <th>Days_Indoors</th>\n",
       "      <th>Growing_Stress</th>\n",
       "      <th>Changes_Habits</th>\n",
       "      <th>Mental_Health_History</th>\n",
       "      <th>Mood_Swings</th>\n",
       "      <th>Coping_Struggles</th>\n",
       "      <th>Work_Interest</th>\n",
       "      <th>Social_Weakness</th>\n",
       "      <th>mental_health_interview</th>\n",
       "      <th>care_options</th>\n",
       "    </tr>\n",
       "  </thead>\n",
       "  <tbody>\n",
       "    <tr>\n",
       "      <th>292359</th>\n",
       "      <td>7/27/2015 23:25</td>\n",
       "      <td>Male</td>\n",
       "      <td>United States</td>\n",
       "      <td>Business</td>\n",
       "      <td>Yes</td>\n",
       "      <td>Yes</td>\n",
       "      <td>Yes</td>\n",
       "      <td>15-30 days</td>\n",
       "      <td>No</td>\n",
       "      <td>Maybe</td>\n",
       "      <td>No</td>\n",
       "      <td>Low</td>\n",
       "      <td>Yes</td>\n",
       "      <td>No</td>\n",
       "      <td>Maybe</td>\n",
       "      <td>Maybe</td>\n",
       "      <td>Not sure</td>\n",
       "    </tr>\n",
       "    <tr>\n",
       "      <th>292360</th>\n",
       "      <td>8/17/2015 9:38</td>\n",
       "      <td>Male</td>\n",
       "      <td>South Africa</td>\n",
       "      <td>Business</td>\n",
       "      <td>No</td>\n",
       "      <td>Yes</td>\n",
       "      <td>Yes</td>\n",
       "      <td>15-30 days</td>\n",
       "      <td>No</td>\n",
       "      <td>Maybe</td>\n",
       "      <td>No</td>\n",
       "      <td>Low</td>\n",
       "      <td>Yes</td>\n",
       "      <td>No</td>\n",
       "      <td>Maybe</td>\n",
       "      <td>No</td>\n",
       "      <td>Yes</td>\n",
       "    </tr>\n",
       "    <tr>\n",
       "      <th>292361</th>\n",
       "      <td>8/25/2015 19:59</td>\n",
       "      <td>Male</td>\n",
       "      <td>United States</td>\n",
       "      <td>Business</td>\n",
       "      <td>No</td>\n",
       "      <td>Yes</td>\n",
       "      <td>No</td>\n",
       "      <td>15-30 days</td>\n",
       "      <td>No</td>\n",
       "      <td>Maybe</td>\n",
       "      <td>No</td>\n",
       "      <td>Low</td>\n",
       "      <td>Yes</td>\n",
       "      <td>No</td>\n",
       "      <td>Maybe</td>\n",
       "      <td>No</td>\n",
       "      <td>No</td>\n",
       "    </tr>\n",
       "    <tr>\n",
       "      <th>292362</th>\n",
       "      <td>9/26/2015 1:07</td>\n",
       "      <td>Male</td>\n",
       "      <td>United States</td>\n",
       "      <td>Business</td>\n",
       "      <td>No</td>\n",
       "      <td>Yes</td>\n",
       "      <td>Yes</td>\n",
       "      <td>15-30 days</td>\n",
       "      <td>No</td>\n",
       "      <td>Maybe</td>\n",
       "      <td>No</td>\n",
       "      <td>Low</td>\n",
       "      <td>Yes</td>\n",
       "      <td>No</td>\n",
       "      <td>Maybe</td>\n",
       "      <td>No</td>\n",
       "      <td>Yes</td>\n",
       "    </tr>\n",
       "    <tr>\n",
       "      <th>292363</th>\n",
       "      <td>2/1/2016 23:04</td>\n",
       "      <td>Male</td>\n",
       "      <td>United States</td>\n",
       "      <td>Business</td>\n",
       "      <td>No</td>\n",
       "      <td>Yes</td>\n",
       "      <td>Yes</td>\n",
       "      <td>15-30 days</td>\n",
       "      <td>No</td>\n",
       "      <td>Maybe</td>\n",
       "      <td>No</td>\n",
       "      <td>Low</td>\n",
       "      <td>Yes</td>\n",
       "      <td>No</td>\n",
       "      <td>Maybe</td>\n",
       "      <td>No</td>\n",
       "      <td>Yes</td>\n",
       "    </tr>\n",
       "  </tbody>\n",
       "</table>\n",
       "</div>"
      ],
      "text/plain": [
       "              Timestamp Gender        Country Occupation self_employed  \\\n",
       "292359  7/27/2015 23:25   Male  United States   Business           Yes   \n",
       "292360   8/17/2015 9:38   Male   South Africa   Business            No   \n",
       "292361  8/25/2015 19:59   Male  United States   Business            No   \n",
       "292362   9/26/2015 1:07   Male  United States   Business            No   \n",
       "292363   2/1/2016 23:04   Male  United States   Business            No   \n",
       "\n",
       "       family_history treatment Days_Indoors Growing_Stress Changes_Habits  \\\n",
       "292359            Yes       Yes   15-30 days             No          Maybe   \n",
       "292360            Yes       Yes   15-30 days             No          Maybe   \n",
       "292361            Yes        No   15-30 days             No          Maybe   \n",
       "292362            Yes       Yes   15-30 days             No          Maybe   \n",
       "292363            Yes       Yes   15-30 days             No          Maybe   \n",
       "\n",
       "       Mental_Health_History Mood_Swings Coping_Struggles Work_Interest  \\\n",
       "292359                    No         Low              Yes            No   \n",
       "292360                    No         Low              Yes            No   \n",
       "292361                    No         Low              Yes            No   \n",
       "292362                    No         Low              Yes            No   \n",
       "292363                    No         Low              Yes            No   \n",
       "\n",
       "       Social_Weakness mental_health_interview care_options  \n",
       "292359           Maybe                   Maybe     Not sure  \n",
       "292360           Maybe                      No          Yes  \n",
       "292361           Maybe                      No           No  \n",
       "292362           Maybe                      No          Yes  \n",
       "292363           Maybe                      No          Yes  "
      ]
     },
     "execution_count": 6,
     "metadata": {},
     "output_type": "execute_result"
    }
   ],
   "source": [
    "df.tail()"
   ]
  },
  {
   "cell_type": "code",
   "execution_count": 7,
   "metadata": {
    "colab": {
     "base_uri": "https://localhost:8080/"
    },
    "executionInfo": {
     "elapsed": 564,
     "status": "ok",
     "timestamp": 1754368661328,
     "user": {
      "displayName": "Raj Parmar",
      "userId": "13547741718900353635"
     },
     "user_tz": -330
    },
    "id": "UsgnEj6fc2Tg",
    "outputId": "1101e326-6e6b-48d1-d656-1ce722181b30"
   },
   "outputs": [
    {
     "name": "stdout",
     "output_type": "stream",
     "text": [
      "<class 'pandas.core.frame.DataFrame'>\n",
      "RangeIndex: 292364 entries, 0 to 292363\n",
      "Data columns (total 17 columns):\n",
      " #   Column                   Non-Null Count   Dtype \n",
      "---  ------                   --------------   ----- \n",
      " 0   Timestamp                292364 non-null  object\n",
      " 1   Gender                   292364 non-null  object\n",
      " 2   Country                  292364 non-null  object\n",
      " 3   Occupation               292364 non-null  object\n",
      " 4   self_employed            287162 non-null  object\n",
      " 5   family_history           292364 non-null  object\n",
      " 6   treatment                292364 non-null  object\n",
      " 7   Days_Indoors             292364 non-null  object\n",
      " 8   Growing_Stress           292364 non-null  object\n",
      " 9   Changes_Habits           292364 non-null  object\n",
      " 10  Mental_Health_History    292364 non-null  object\n",
      " 11  Mood_Swings              292364 non-null  object\n",
      " 12  Coping_Struggles         292364 non-null  object\n",
      " 13  Work_Interest            292364 non-null  object\n",
      " 14  Social_Weakness          292364 non-null  object\n",
      " 15  mental_health_interview  292364 non-null  object\n",
      " 16  care_options             292364 non-null  object\n",
      "dtypes: object(17)\n",
      "memory usage: 37.9+ MB\n"
     ]
    }
   ],
   "source": [
    "df.info()"
   ]
  },
  {
   "cell_type": "code",
   "execution_count": 8,
   "metadata": {
    "colab": {
     "base_uri": "https://localhost:8080/",
     "height": 212
    },
    "executionInfo": {
     "elapsed": 659,
     "status": "ok",
     "timestamp": 1754368663828,
     "user": {
      "displayName": "Raj Parmar",
      "userId": "13547741718900353635"
     },
     "user_tz": -330
    },
    "id": "iZbmx8iGdGUP",
    "outputId": "bc340c56-4bbb-40b5-d5ac-4fd6dc6eb009"
   },
   "outputs": [
    {
     "data": {
      "text/html": [
       "<div>\n",
       "<style scoped>\n",
       "    .dataframe tbody tr th:only-of-type {\n",
       "        vertical-align: middle;\n",
       "    }\n",
       "\n",
       "    .dataframe tbody tr th {\n",
       "        vertical-align: top;\n",
       "    }\n",
       "\n",
       "    .dataframe thead th {\n",
       "        text-align: right;\n",
       "    }\n",
       "</style>\n",
       "<table border=\"1\" class=\"dataframe\">\n",
       "  <thead>\n",
       "    <tr style=\"text-align: right;\">\n",
       "      <th></th>\n",
       "      <th>Timestamp</th>\n",
       "      <th>Gender</th>\n",
       "      <th>Country</th>\n",
       "      <th>Occupation</th>\n",
       "      <th>self_employed</th>\n",
       "      <th>family_history</th>\n",
       "      <th>treatment</th>\n",
       "      <th>Days_Indoors</th>\n",
       "      <th>Growing_Stress</th>\n",
       "      <th>Changes_Habits</th>\n",
       "      <th>Mental_Health_History</th>\n",
       "      <th>Mood_Swings</th>\n",
       "      <th>Coping_Struggles</th>\n",
       "      <th>Work_Interest</th>\n",
       "      <th>Social_Weakness</th>\n",
       "      <th>mental_health_interview</th>\n",
       "      <th>care_options</th>\n",
       "    </tr>\n",
       "  </thead>\n",
       "  <tbody>\n",
       "    <tr>\n",
       "      <th>count</th>\n",
       "      <td>292364</td>\n",
       "      <td>292364</td>\n",
       "      <td>292364</td>\n",
       "      <td>292364</td>\n",
       "      <td>287162</td>\n",
       "      <td>292364</td>\n",
       "      <td>292364</td>\n",
       "      <td>292364</td>\n",
       "      <td>292364</td>\n",
       "      <td>292364</td>\n",
       "      <td>292364</td>\n",
       "      <td>292364</td>\n",
       "      <td>292364</td>\n",
       "      <td>292364</td>\n",
       "      <td>292364</td>\n",
       "      <td>292364</td>\n",
       "      <td>292364</td>\n",
       "    </tr>\n",
       "    <tr>\n",
       "      <th>unique</th>\n",
       "      <td>580</td>\n",
       "      <td>2</td>\n",
       "      <td>35</td>\n",
       "      <td>5</td>\n",
       "      <td>2</td>\n",
       "      <td>2</td>\n",
       "      <td>2</td>\n",
       "      <td>5</td>\n",
       "      <td>3</td>\n",
       "      <td>3</td>\n",
       "      <td>3</td>\n",
       "      <td>3</td>\n",
       "      <td>2</td>\n",
       "      <td>3</td>\n",
       "      <td>3</td>\n",
       "      <td>3</td>\n",
       "      <td>3</td>\n",
       "    </tr>\n",
       "    <tr>\n",
       "      <th>top</th>\n",
       "      <td>8/27/2014 11:43</td>\n",
       "      <td>Male</td>\n",
       "      <td>United States</td>\n",
       "      <td>Housewife</td>\n",
       "      <td>No</td>\n",
       "      <td>No</td>\n",
       "      <td>Yes</td>\n",
       "      <td>1-14 days</td>\n",
       "      <td>Maybe</td>\n",
       "      <td>Yes</td>\n",
       "      <td>No</td>\n",
       "      <td>Medium</td>\n",
       "      <td>No</td>\n",
       "      <td>No</td>\n",
       "      <td>Maybe</td>\n",
       "      <td>No</td>\n",
       "      <td>No</td>\n",
       "    </tr>\n",
       "    <tr>\n",
       "      <th>freq</th>\n",
       "      <td>2384</td>\n",
       "      <td>239850</td>\n",
       "      <td>171308</td>\n",
       "      <td>66351</td>\n",
       "      <td>257994</td>\n",
       "      <td>176832</td>\n",
       "      <td>147606</td>\n",
       "      <td>63548</td>\n",
       "      <td>99985</td>\n",
       "      <td>109523</td>\n",
       "      <td>104018</td>\n",
       "      <td>101064</td>\n",
       "      <td>154328</td>\n",
       "      <td>105843</td>\n",
       "      <td>103393</td>\n",
       "      <td>232166</td>\n",
       "      <td>118886</td>\n",
       "    </tr>\n",
       "  </tbody>\n",
       "</table>\n",
       "</div>"
      ],
      "text/plain": [
       "              Timestamp  Gender        Country Occupation self_employed  \\\n",
       "count            292364  292364         292364     292364        287162   \n",
       "unique              580       2             35          5             2   \n",
       "top     8/27/2014 11:43    Male  United States  Housewife            No   \n",
       "freq               2384  239850         171308      66351        257994   \n",
       "\n",
       "       family_history treatment Days_Indoors Growing_Stress Changes_Habits  \\\n",
       "count          292364    292364       292364         292364         292364   \n",
       "unique              2         2            5              3              3   \n",
       "top                No       Yes    1-14 days          Maybe            Yes   \n",
       "freq           176832    147606        63548          99985         109523   \n",
       "\n",
       "       Mental_Health_History Mood_Swings Coping_Struggles Work_Interest  \\\n",
       "count                 292364      292364           292364        292364   \n",
       "unique                     3           3                2             3   \n",
       "top                       No      Medium               No            No   \n",
       "freq                  104018      101064           154328        105843   \n",
       "\n",
       "       Social_Weakness mental_health_interview care_options  \n",
       "count           292364                  292364       292364  \n",
       "unique               3                       3            3  \n",
       "top              Maybe                      No           No  \n",
       "freq            103393                  232166       118886  "
      ]
     },
     "execution_count": 8,
     "metadata": {},
     "output_type": "execute_result"
    }
   ],
   "source": [
    "df.describe()"
   ]
  },
  {
   "cell_type": "code",
   "execution_count": 9,
   "metadata": {
    "colab": {
     "base_uri": "https://localhost:8080/"
    },
    "executionInfo": {
     "elapsed": 6,
     "status": "ok",
     "timestamp": 1754368665204,
     "user": {
      "displayName": "Raj Parmar",
      "userId": "13547741718900353635"
     },
     "user_tz": -330
    },
    "id": "3EqLDElqd2gH",
    "outputId": "15b6f09c-2b36-4541-fb8a-ebefb8d72951"
   },
   "outputs": [
    {
     "name": "stdout",
     "output_type": "stream",
     "text": [
      "Timestamp                     0\n",
      "Gender                        0\n",
      "Country                       0\n",
      "Occupation                    0\n",
      "self_employed              5202\n",
      "family_history                0\n",
      "treatment                     0\n",
      "Days_Indoors                  0\n",
      "Growing_Stress                0\n",
      "Changes_Habits                0\n",
      "Mental_Health_History         0\n",
      "Mood_Swings                   0\n",
      "Coping_Struggles              0\n",
      "Work_Interest                 0\n",
      "Social_Weakness               0\n",
      "mental_health_interview       0\n",
      "care_options                  0\n",
      "dtype: int64\n"
     ]
    }
   ],
   "source": [
    "print(df.isnull().sum())"
   ]
  },
  {
   "cell_type": "code",
   "execution_count": 10,
   "metadata": {
    "colab": {
     "base_uri": "https://localhost:8080/",
     "height": 272
    },
    "executionInfo": {
     "elapsed": 48,
     "status": "ok",
     "timestamp": 1754368668547,
     "user": {
      "displayName": "Raj Parmar",
      "userId": "13547741718900353635"
     },
     "user_tz": -330
    },
    "id": "6ABmi75CmJuh",
    "outputId": "4eea060e-20f8-4c1d-d6e6-9967fa86c92f"
   },
   "outputs": [
    {
     "data": {
      "text/plain": [
       "Occupation\n",
       "Housewife    66351\n",
       "Student      61794\n",
       "Corporate    61229\n",
       "Others       52841\n",
       "Business     50149\n",
       "Name: count, dtype: int64"
      ]
     },
     "execution_count": 10,
     "metadata": {},
     "output_type": "execute_result"
    }
   ],
   "source": [
    "df['Occupation'].value_counts()"
   ]
  },
  {
   "cell_type": "code",
   "execution_count": 11,
   "metadata": {
    "id": "13touuLDnh8e"
   },
   "outputs": [],
   "source": [
    "# from the above we can see that where self_employed column has null values , above are the occupation counts , for all the occupation , except Corporate ,\n",
    "# we will assign the self_employed as \"yes\""
   ]
  },
  {
   "cell_type": "code",
   "execution_count": 12,
   "metadata": {
    "id": "g2Qv10O7olc8"
   },
   "outputs": [],
   "source": [
    "# Convert to lowercase to avoid case sensitivity\n",
    "df['Occupation'] = df['Occupation'].str.lower()\n",
    "\n",
    "# Set 'self_employed' based on Occupation\n",
    "df['self_employed'] = df['Occupation'].apply(lambda x: 'No' if x == 'corporate' else 'Yes')\n"
   ]
  },
  {
   "cell_type": "code",
   "execution_count": 13,
   "metadata": {
    "colab": {
     "base_uri": "https://localhost:8080/",
     "height": 212
    },
    "executionInfo": {
     "elapsed": 1310,
     "status": "ok",
     "timestamp": 1754368673890,
     "user": {
      "displayName": "Raj Parmar",
      "userId": "13547741718900353635"
     },
     "user_tz": -330
    },
    "id": "-WFnYuC2ptfC",
    "outputId": "bc53274d-2d57-4512-f7f9-b18a2132d566"
   },
   "outputs": [
    {
     "data": {
      "text/html": [
       "<div>\n",
       "<style scoped>\n",
       "    .dataframe tbody tr th:only-of-type {\n",
       "        vertical-align: middle;\n",
       "    }\n",
       "\n",
       "    .dataframe tbody tr th {\n",
       "        vertical-align: top;\n",
       "    }\n",
       "\n",
       "    .dataframe thead th {\n",
       "        text-align: right;\n",
       "    }\n",
       "</style>\n",
       "<table border=\"1\" class=\"dataframe\">\n",
       "  <thead>\n",
       "    <tr style=\"text-align: right;\">\n",
       "      <th></th>\n",
       "      <th>Timestamp</th>\n",
       "      <th>Gender</th>\n",
       "      <th>Country</th>\n",
       "      <th>Occupation</th>\n",
       "      <th>self_employed</th>\n",
       "      <th>family_history</th>\n",
       "      <th>treatment</th>\n",
       "      <th>Days_Indoors</th>\n",
       "      <th>Growing_Stress</th>\n",
       "      <th>Changes_Habits</th>\n",
       "      <th>Mental_Health_History</th>\n",
       "      <th>Mood_Swings</th>\n",
       "      <th>Coping_Struggles</th>\n",
       "      <th>Work_Interest</th>\n",
       "      <th>Social_Weakness</th>\n",
       "      <th>mental_health_interview</th>\n",
       "      <th>care_options</th>\n",
       "    </tr>\n",
       "  </thead>\n",
       "  <tbody>\n",
       "    <tr>\n",
       "      <th>count</th>\n",
       "      <td>292364</td>\n",
       "      <td>292364</td>\n",
       "      <td>292364</td>\n",
       "      <td>292364</td>\n",
       "      <td>292364</td>\n",
       "      <td>292364</td>\n",
       "      <td>292364</td>\n",
       "      <td>292364</td>\n",
       "      <td>292364</td>\n",
       "      <td>292364</td>\n",
       "      <td>292364</td>\n",
       "      <td>292364</td>\n",
       "      <td>292364</td>\n",
       "      <td>292364</td>\n",
       "      <td>292364</td>\n",
       "      <td>292364</td>\n",
       "      <td>292364</td>\n",
       "    </tr>\n",
       "    <tr>\n",
       "      <th>unique</th>\n",
       "      <td>580</td>\n",
       "      <td>2</td>\n",
       "      <td>35</td>\n",
       "      <td>5</td>\n",
       "      <td>2</td>\n",
       "      <td>2</td>\n",
       "      <td>2</td>\n",
       "      <td>5</td>\n",
       "      <td>3</td>\n",
       "      <td>3</td>\n",
       "      <td>3</td>\n",
       "      <td>3</td>\n",
       "      <td>2</td>\n",
       "      <td>3</td>\n",
       "      <td>3</td>\n",
       "      <td>3</td>\n",
       "      <td>3</td>\n",
       "    </tr>\n",
       "    <tr>\n",
       "      <th>top</th>\n",
       "      <td>8/27/2014 11:43</td>\n",
       "      <td>Male</td>\n",
       "      <td>United States</td>\n",
       "      <td>housewife</td>\n",
       "      <td>Yes</td>\n",
       "      <td>No</td>\n",
       "      <td>Yes</td>\n",
       "      <td>1-14 days</td>\n",
       "      <td>Maybe</td>\n",
       "      <td>Yes</td>\n",
       "      <td>No</td>\n",
       "      <td>Medium</td>\n",
       "      <td>No</td>\n",
       "      <td>No</td>\n",
       "      <td>Maybe</td>\n",
       "      <td>No</td>\n",
       "      <td>No</td>\n",
       "    </tr>\n",
       "    <tr>\n",
       "      <th>freq</th>\n",
       "      <td>2384</td>\n",
       "      <td>239850</td>\n",
       "      <td>171308</td>\n",
       "      <td>66351</td>\n",
       "      <td>231135</td>\n",
       "      <td>176832</td>\n",
       "      <td>147606</td>\n",
       "      <td>63548</td>\n",
       "      <td>99985</td>\n",
       "      <td>109523</td>\n",
       "      <td>104018</td>\n",
       "      <td>101064</td>\n",
       "      <td>154328</td>\n",
       "      <td>105843</td>\n",
       "      <td>103393</td>\n",
       "      <td>232166</td>\n",
       "      <td>118886</td>\n",
       "    </tr>\n",
       "  </tbody>\n",
       "</table>\n",
       "</div>"
      ],
      "text/plain": [
       "              Timestamp  Gender        Country Occupation self_employed  \\\n",
       "count            292364  292364         292364     292364        292364   \n",
       "unique              580       2             35          5             2   \n",
       "top     8/27/2014 11:43    Male  United States  housewife           Yes   \n",
       "freq               2384  239850         171308      66351        231135   \n",
       "\n",
       "       family_history treatment Days_Indoors Growing_Stress Changes_Habits  \\\n",
       "count          292364    292364       292364         292364         292364   \n",
       "unique              2         2            5              3              3   \n",
       "top                No       Yes    1-14 days          Maybe            Yes   \n",
       "freq           176832    147606        63548          99985         109523   \n",
       "\n",
       "       Mental_Health_History Mood_Swings Coping_Struggles Work_Interest  \\\n",
       "count                 292364      292364           292364        292364   \n",
       "unique                     3           3                2             3   \n",
       "top                       No      Medium               No            No   \n",
       "freq                  104018      101064           154328        105843   \n",
       "\n",
       "       Social_Weakness mental_health_interview care_options  \n",
       "count           292364                  292364       292364  \n",
       "unique               3                       3            3  \n",
       "top              Maybe                      No           No  \n",
       "freq            103393                  232166       118886  "
      ]
     },
     "execution_count": 13,
     "metadata": {},
     "output_type": "execute_result"
    }
   ],
   "source": [
    "df.describe()"
   ]
  },
  {
   "cell_type": "code",
   "execution_count": 14,
   "metadata": {
    "colab": {
     "base_uri": "https://localhost:8080/",
     "height": 617
    },
    "executionInfo": {
     "elapsed": 559,
     "status": "ok",
     "timestamp": 1754368674453,
     "user": {
      "displayName": "Raj Parmar",
      "userId": "13547741718900353635"
     },
     "user_tz": -330
    },
    "id": "NfzchaRmuJD8",
    "outputId": "5cee7aa3-0137-46de-ec16-b8d00c2f501e"
   },
   "outputs": [
    {
     "data": {
      "text/plain": [
       "Timestamp                  0\n",
       "Gender                     0\n",
       "Country                    0\n",
       "Occupation                 0\n",
       "self_employed              0\n",
       "family_history             0\n",
       "treatment                  0\n",
       "Days_Indoors               0\n",
       "Growing_Stress             0\n",
       "Changes_Habits             0\n",
       "Mental_Health_History      0\n",
       "Mood_Swings                0\n",
       "Coping_Struggles           0\n",
       "Work_Interest              0\n",
       "Social_Weakness            0\n",
       "mental_health_interview    0\n",
       "care_options               0\n",
       "dtype: int64"
      ]
     },
     "execution_count": 14,
     "metadata": {},
     "output_type": "execute_result"
    }
   ],
   "source": [
    "df.isnull().sum()"
   ]
  },
  {
   "cell_type": "code",
   "execution_count": 15,
   "metadata": {
    "id": "HryzgdIbusdq"
   },
   "outputs": [],
   "source": [
    "# from the above output we can see that there are no missing values\n"
   ]
  },
  {
   "cell_type": "code",
   "execution_count": 16,
   "metadata": {
    "id": "tj8__GdBuyoP"
   },
   "outputs": [],
   "source": [
    "df.drop(columns='Timestamp',inplace=True)"
   ]
  },
  {
   "cell_type": "code",
   "execution_count": 17,
   "metadata": {
    "id": "2pVFiyxavJLW"
   },
   "outputs": [],
   "source": [
    "#now let's standardize categorical variables\n",
    "\n"
   ]
  },
  {
   "cell_type": "code",
   "execution_count": 18,
   "metadata": {
    "id": "Vv_FFbA0vpW7"
   },
   "outputs": [],
   "source": [
    "df[\"Gender\"] = df[\"Gender\"].astype(str).str.strip().str.lower() #making the column gender to small case and strpping any unnecessary white spaces"
   ]
  },
  {
   "cell_type": "code",
   "execution_count": 19,
   "metadata": {
    "id": "2YjkbKr4vuBa"
   },
   "outputs": [],
   "source": [
    "text_cols = df.columns.to_list()"
   ]
  },
  {
   "cell_type": "code",
   "execution_count": 20,
   "metadata": {
    "colab": {
     "base_uri": "https://localhost:8080/"
    },
    "executionInfo": {
     "elapsed": 51,
     "status": "ok",
     "timestamp": 1754368698450,
     "user": {
      "displayName": "Raj Parmar",
      "userId": "13547741718900353635"
     },
     "user_tz": -330
    },
    "id": "qgEJ5owQv2bn",
    "outputId": "1220d6e7-4fa8-4d1a-a77a-ae35bfcce45a"
   },
   "outputs": [
    {
     "name": "stdout",
     "output_type": "stream",
     "text": [
      "['Gender', 'Country', 'Occupation', 'self_employed', 'family_history', 'treatment', 'Days_Indoors', 'Growing_Stress', 'Changes_Habits', 'Mental_Health_History', 'Mood_Swings', 'Coping_Struggles', 'Work_Interest', 'Social_Weakness', 'mental_health_interview', 'care_options']\n"
     ]
    }
   ],
   "source": [
    "print(text_cols)"
   ]
  },
  {
   "cell_type": "code",
   "execution_count": 21,
   "metadata": {
    "id": "f8QNL6QAwk0e"
   },
   "outputs": [],
   "source": [
    "for i in text_cols:\n",
    "  df[i] = df[i].astype(str).str.strip().str.lower()\n",
    "#making all the text columns smallcase and striped any unnecessary white spaces"
   ]
  },
  {
   "cell_type": "code",
   "execution_count": 22,
   "metadata": {
    "colab": {
     "base_uri": "https://localhost:8080/"
    },
    "executionInfo": {
     "elapsed": 35,
     "status": "ok",
     "timestamp": 1754368704611,
     "user": {
      "displayName": "Raj Parmar",
      "userId": "13547741718900353635"
     },
     "user_tz": -330
    },
    "id": "lHLBiHUgw0sc",
    "outputId": "82c5bb91-071d-4ba1-be45-645d307941d7"
   },
   "outputs": [
    {
     "data": {
      "text/plain": [
       "array(['no', 'maybe', 'yes'], dtype=object)"
      ]
     },
     "execution_count": 22,
     "metadata": {},
     "output_type": "execute_result"
    }
   ],
   "source": [
    "df['Work_Interest'].unique()"
   ]
  },
  {
   "cell_type": "code",
   "execution_count": 23,
   "metadata": {
    "colab": {
     "base_uri": "https://localhost:8080/"
    },
    "executionInfo": {
     "elapsed": 305,
     "status": "ok",
     "timestamp": 1754368708448,
     "user": {
      "displayName": "Raj Parmar",
      "userId": "13547741718900353635"
     },
     "user_tz": -330
    },
    "id": "Qc5TFkkVxnZ8",
    "outputId": "c038222f-1dc7-492c-f17c-5c59b0ea681f"
   },
   "outputs": [
    {
     "name": "stdout",
     "output_type": "stream",
     "text": [
      "the unique values in column Gender is ['female' 'male']\n",
      "the unique values in column Country is ['united states' 'poland' 'australia' 'canada' 'united kingdom'\n",
      " 'south africa' 'sweden' 'new zealand' 'netherlands' 'india' 'belgium'\n",
      " 'ireland' 'france' 'portugal' 'brazil' 'costa rica' 'russia' 'germany'\n",
      " 'switzerland' 'finland' 'israel' 'italy' 'bosnia and herzegovina'\n",
      " 'singapore' 'nigeria' 'croatia' 'thailand' 'denmark' 'mexico' 'greece'\n",
      " 'moldova' 'colombia' 'georgia' 'czech republic' 'philippines']\n",
      "the unique values in column Occupation is ['corporate' 'student' 'business' 'housewife' 'others']\n",
      "the unique values in column self_employed is ['no' 'yes']\n",
      "the unique values in column family_history is ['no' 'yes']\n",
      "the unique values in column treatment is ['yes' 'no']\n",
      "the unique values in column Days_Indoors is ['1-14 days' 'go out every day' 'more than 2 months' '15-30 days'\n",
      " '31-60 days']\n",
      "the unique values in column Growing_Stress is ['yes' 'no' 'maybe']\n",
      "the unique values in column Changes_Habits is ['no' 'yes' 'maybe']\n",
      "the unique values in column Mental_Health_History is ['yes' 'no' 'maybe']\n",
      "the unique values in column Mood_Swings is ['medium' 'low' 'high']\n",
      "the unique values in column Coping_Struggles is ['no' 'yes']\n",
      "the unique values in column Work_Interest is ['no' 'maybe' 'yes']\n",
      "the unique values in column Social_Weakness is ['yes' 'no' 'maybe']\n",
      "the unique values in column mental_health_interview is ['no' 'maybe' 'yes']\n",
      "the unique values in column care_options is ['not sure' 'no' 'yes']\n"
     ]
    }
   ],
   "source": [
    "for i in df.columns.tolist():\n",
    "  print(\"the unique values in column \"+i+\" is \"+str(df[i].unique()))\n"
   ]
  },
  {
   "cell_type": "code",
   "execution_count": 25,
   "metadata": {
    "id": "-kxXU5Elz7Wa"
   },
   "outputs": [],
   "source": [
    "binary_cols = df.columns[df.apply(lambda col: col.nunique() == 2)].tolist() #finding columns with 2 unique values"
   ]
  },
  {
   "cell_type": "code",
   "execution_count": 26,
   "metadata": {
    "colab": {
     "base_uri": "https://localhost:8080/"
    },
    "executionInfo": {
     "elapsed": 54,
     "status": "ok",
     "timestamp": 1754368973206,
     "user": {
      "displayName": "Raj Parmar",
      "userId": "13547741718900353635"
     },
     "user_tz": -330
    },
    "id": "e7itp1cr1LxQ",
    "outputId": "aabb0bb2-0195-4676-e022-b2bdd6d64b57"
   },
   "outputs": [
    {
     "name": "stdout",
     "output_type": "stream",
     "text": [
      "['Gender', 'self_employed', 'family_history', 'treatment', 'Coping_Struggles']\n"
     ]
    }
   ],
   "source": [
    "print(binary_cols)"
   ]
  },
  {
   "cell_type": "code",
   "execution_count": 27,
   "metadata": {
    "id": "RtBC2cS02AvW"
   },
   "outputs": [],
   "source": [
    "#from the above we need to use label encoding for binary cols (converting yes and no to 1 and 0)"
   ]
  },
  {
   "cell_type": "code",
   "execution_count": 28,
   "metadata": {
    "id": "k1six_Yo2_lf"
   },
   "outputs": [],
   "source": [
    "from sklearn.preprocessing import LabelEncoder\n",
    "le = LabelEncoder()\n",
    "for col in binary_cols:\n",
    "  df[col] = le.fit_transform(df[col])"
   ]
  },
  {
   "cell_type": "code",
   "execution_count": 29,
   "metadata": {
    "id": "1ZX14GuB3rTA"
   },
   "outputs": [],
   "source": [
    "one_hot_cols = df.columns[df.apply(lambda col: col.nunique() > 2)].tolist() #finding columns with more than 2 unique values"
   ]
  },
  {
   "cell_type": "code",
   "execution_count": 30,
   "metadata": {
    "colab": {
     "base_uri": "https://localhost:8080/"
    },
    "executionInfo": {
     "elapsed": 13,
     "status": "ok",
     "timestamp": 1754369003721,
     "user": {
      "displayName": "Raj Parmar",
      "userId": "13547741718900353635"
     },
     "user_tz": -330
    },
    "id": "2jenf-9m4Iip",
    "outputId": "917a561d-e602-4b2d-ec10-f8d96a65668f"
   },
   "outputs": [
    {
     "name": "stdout",
     "output_type": "stream",
     "text": [
      "['Country', 'Occupation', 'Days_Indoors', 'Growing_Stress', 'Changes_Habits', 'Mental_Health_History', 'Mood_Swings', 'Work_Interest', 'Social_Weakness', 'mental_health_interview', 'care_options']\n"
     ]
    }
   ],
   "source": [
    "print(one_hot_cols)"
   ]
  },
  {
   "cell_type": "code",
   "execution_count": 32,
   "metadata": {
    "id": "BN6H2Irb4KIP"
   },
   "outputs": [
    {
     "ename": "KeyError",
     "evalue": "\"None of [Index(['Country', 'Occupation', 'Days_Indoors', 'Growing_Stress',\\n       'Changes_Habits', 'Mental_Health_History', 'Mood_Swings',\\n       'Work_Interest', 'Social_Weakness', 'mental_health_interview',\\n       'care_options'],\\n      dtype='object')] are in the [columns]\"",
     "output_type": "error",
     "traceback": [
      "\u001b[31m---------------------------------------------------------------------------\u001b[39m",
      "\u001b[31mKeyError\u001b[39m                                  Traceback (most recent call last)",
      "\u001b[36mCell\u001b[39m\u001b[36m \u001b[39m\u001b[32mIn[32]\u001b[39m\u001b[32m, line 1\u001b[39m\n\u001b[32m----> \u001b[39m\u001b[32m1\u001b[39m df = \u001b[43mpd\u001b[49m\u001b[43m.\u001b[49m\u001b[43mget_dummies\u001b[49m\u001b[43m(\u001b[49m\u001b[43mdf\u001b[49m\u001b[43m,\u001b[49m\u001b[43mcolumns\u001b[49m\u001b[43m=\u001b[49m\u001b[43mone_hot_cols\u001b[49m\u001b[43m,\u001b[49m\u001b[43mdrop_first\u001b[49m\u001b[43m=\u001b[49m\u001b[38;5;28;43;01mTrue\u001b[39;49;00m\u001b[43m)\u001b[49m \u001b[38;5;66;03m#applying one hot encoding to columns with more than 2 unique values\u001b[39;00m\n",
      "\u001b[36mFile \u001b[39m\u001b[32m~\\AppData\\Local\\Programs\\Python\\Python313\\Lib\\site-packages\\pandas\\core\\reshape\\encoding.py:169\u001b[39m, in \u001b[36mget_dummies\u001b[39m\u001b[34m(data, prefix, prefix_sep, dummy_na, columns, sparse, drop_first, dtype)\u001b[39m\n\u001b[32m    167\u001b[39m     \u001b[38;5;28;01mraise\u001b[39;00m \u001b[38;5;167;01mTypeError\u001b[39;00m(\u001b[33m\"\u001b[39m\u001b[33mInput must be a list-like for parameter `columns`\u001b[39m\u001b[33m\"\u001b[39m)\n\u001b[32m    168\u001b[39m \u001b[38;5;28;01melse\u001b[39;00m:\n\u001b[32m--> \u001b[39m\u001b[32m169\u001b[39m     data_to_encode = \u001b[43mdata\u001b[49m\u001b[43m[\u001b[49m\u001b[43mcolumns\u001b[49m\u001b[43m]\u001b[49m\n\u001b[32m    171\u001b[39m \u001b[38;5;66;03m# validate prefixes and separator to avoid silently dropping cols\u001b[39;00m\n\u001b[32m    172\u001b[39m \u001b[38;5;28;01mdef\u001b[39;00m\u001b[38;5;250m \u001b[39m\u001b[34mcheck_len\u001b[39m(item, name: \u001b[38;5;28mstr\u001b[39m):\n",
      "\u001b[36mFile \u001b[39m\u001b[32m~\\AppData\\Local\\Programs\\Python\\Python313\\Lib\\site-packages\\pandas\\core\\frame.py:4108\u001b[39m, in \u001b[36mDataFrame.__getitem__\u001b[39m\u001b[34m(self, key)\u001b[39m\n\u001b[32m   4106\u001b[39m     \u001b[38;5;28;01mif\u001b[39;00m is_iterator(key):\n\u001b[32m   4107\u001b[39m         key = \u001b[38;5;28mlist\u001b[39m(key)\n\u001b[32m-> \u001b[39m\u001b[32m4108\u001b[39m     indexer = \u001b[38;5;28;43mself\u001b[39;49m\u001b[43m.\u001b[49m\u001b[43mcolumns\u001b[49m\u001b[43m.\u001b[49m\u001b[43m_get_indexer_strict\u001b[49m\u001b[43m(\u001b[49m\u001b[43mkey\u001b[49m\u001b[43m,\u001b[49m\u001b[43m \u001b[49m\u001b[33;43m\"\u001b[39;49m\u001b[33;43mcolumns\u001b[39;49m\u001b[33;43m\"\u001b[39;49m\u001b[43m)\u001b[49m[\u001b[32m1\u001b[39m]\n\u001b[32m   4110\u001b[39m \u001b[38;5;66;03m# take() does not accept boolean indexers\u001b[39;00m\n\u001b[32m   4111\u001b[39m \u001b[38;5;28;01mif\u001b[39;00m \u001b[38;5;28mgetattr\u001b[39m(indexer, \u001b[33m\"\u001b[39m\u001b[33mdtype\u001b[39m\u001b[33m\"\u001b[39m, \u001b[38;5;28;01mNone\u001b[39;00m) == \u001b[38;5;28mbool\u001b[39m:\n",
      "\u001b[36mFile \u001b[39m\u001b[32m~\\AppData\\Local\\Programs\\Python\\Python313\\Lib\\site-packages\\pandas\\core\\indexes\\base.py:6200\u001b[39m, in \u001b[36mIndex._get_indexer_strict\u001b[39m\u001b[34m(self, key, axis_name)\u001b[39m\n\u001b[32m   6197\u001b[39m \u001b[38;5;28;01melse\u001b[39;00m:\n\u001b[32m   6198\u001b[39m     keyarr, indexer, new_indexer = \u001b[38;5;28mself\u001b[39m._reindex_non_unique(keyarr)\n\u001b[32m-> \u001b[39m\u001b[32m6200\u001b[39m \u001b[38;5;28;43mself\u001b[39;49m\u001b[43m.\u001b[49m\u001b[43m_raise_if_missing\u001b[49m\u001b[43m(\u001b[49m\u001b[43mkeyarr\u001b[49m\u001b[43m,\u001b[49m\u001b[43m \u001b[49m\u001b[43mindexer\u001b[49m\u001b[43m,\u001b[49m\u001b[43m \u001b[49m\u001b[43maxis_name\u001b[49m\u001b[43m)\u001b[49m\n\u001b[32m   6202\u001b[39m keyarr = \u001b[38;5;28mself\u001b[39m.take(indexer)\n\u001b[32m   6203\u001b[39m \u001b[38;5;28;01mif\u001b[39;00m \u001b[38;5;28misinstance\u001b[39m(key, Index):\n\u001b[32m   6204\u001b[39m     \u001b[38;5;66;03m# GH 42790 - Preserve name from an Index\u001b[39;00m\n",
      "\u001b[36mFile \u001b[39m\u001b[32m~\\AppData\\Local\\Programs\\Python\\Python313\\Lib\\site-packages\\pandas\\core\\indexes\\base.py:6249\u001b[39m, in \u001b[36mIndex._raise_if_missing\u001b[39m\u001b[34m(self, key, indexer, axis_name)\u001b[39m\n\u001b[32m   6247\u001b[39m \u001b[38;5;28;01mif\u001b[39;00m nmissing:\n\u001b[32m   6248\u001b[39m     \u001b[38;5;28;01mif\u001b[39;00m nmissing == \u001b[38;5;28mlen\u001b[39m(indexer):\n\u001b[32m-> \u001b[39m\u001b[32m6249\u001b[39m         \u001b[38;5;28;01mraise\u001b[39;00m \u001b[38;5;167;01mKeyError\u001b[39;00m(\u001b[33mf\u001b[39m\u001b[33m\"\u001b[39m\u001b[33mNone of [\u001b[39m\u001b[38;5;132;01m{\u001b[39;00mkey\u001b[38;5;132;01m}\u001b[39;00m\u001b[33m] are in the [\u001b[39m\u001b[38;5;132;01m{\u001b[39;00maxis_name\u001b[38;5;132;01m}\u001b[39;00m\u001b[33m]\u001b[39m\u001b[33m\"\u001b[39m)\n\u001b[32m   6251\u001b[39m     not_found = \u001b[38;5;28mlist\u001b[39m(ensure_index(key)[missing_mask.nonzero()[\u001b[32m0\u001b[39m]].unique())\n\u001b[32m   6252\u001b[39m     \u001b[38;5;28;01mraise\u001b[39;00m \u001b[38;5;167;01mKeyError\u001b[39;00m(\u001b[33mf\u001b[39m\u001b[33m\"\u001b[39m\u001b[38;5;132;01m{\u001b[39;00mnot_found\u001b[38;5;132;01m}\u001b[39;00m\u001b[33m not in index\u001b[39m\u001b[33m\"\u001b[39m)\n",
      "\u001b[31mKeyError\u001b[39m: \"None of [Index(['Country', 'Occupation', 'Days_Indoors', 'Growing_Stress',\\n       'Changes_Habits', 'Mental_Health_History', 'Mood_Swings',\\n       'Work_Interest', 'Social_Weakness', 'mental_health_interview',\\n       'care_options'],\\n      dtype='object')] are in the [columns]\""
     ]
    }
   ],
   "source": [
    "df = pd.get_dummies(df,columns=one_hot_cols,drop_first=True) #applying one hot encoding to columns with more than 2 unique values"
   ]
  },
  {
   "cell_type": "code",
   "execution_count": 33,
   "metadata": {
    "colab": {
     "base_uri": "https://localhost:8080/"
    },
    "executionInfo": {
     "elapsed": 18,
     "status": "ok",
     "timestamp": 1754369008706,
     "user": {
      "displayName": "Raj Parmar",
      "userId": "13547741718900353635"
     },
     "user_tz": -330
    },
    "id": "dPXx78AP8Mpw",
    "outputId": "ae8532e7-d252-4858-ec92-51c135ea23a6"
   },
   "outputs": [
    {
     "data": {
      "text/plain": [
       "['Gender',\n",
       " 'self_employed',\n",
       " 'family_history',\n",
       " 'treatment',\n",
       " 'Coping_Struggles',\n",
       " 'Country_belgium',\n",
       " 'Country_bosnia and herzegovina',\n",
       " 'Country_brazil',\n",
       " 'Country_canada',\n",
       " 'Country_colombia',\n",
       " 'Country_costa rica',\n",
       " 'Country_croatia',\n",
       " 'Country_czech republic',\n",
       " 'Country_denmark',\n",
       " 'Country_finland',\n",
       " 'Country_france',\n",
       " 'Country_georgia',\n",
       " 'Country_germany',\n",
       " 'Country_greece',\n",
       " 'Country_india',\n",
       " 'Country_ireland',\n",
       " 'Country_israel',\n",
       " 'Country_italy',\n",
       " 'Country_mexico',\n",
       " 'Country_moldova',\n",
       " 'Country_netherlands',\n",
       " 'Country_new zealand',\n",
       " 'Country_nigeria',\n",
       " 'Country_philippines',\n",
       " 'Country_poland',\n",
       " 'Country_portugal',\n",
       " 'Country_russia',\n",
       " 'Country_singapore',\n",
       " 'Country_south africa',\n",
       " 'Country_sweden',\n",
       " 'Country_switzerland',\n",
       " 'Country_thailand',\n",
       " 'Country_united kingdom',\n",
       " 'Country_united states',\n",
       " 'Occupation_corporate',\n",
       " 'Occupation_housewife',\n",
       " 'Occupation_others',\n",
       " 'Occupation_student',\n",
       " 'Days_Indoors_15-30 days',\n",
       " 'Days_Indoors_31-60 days',\n",
       " 'Days_Indoors_go out every day',\n",
       " 'Days_Indoors_more than 2 months',\n",
       " 'Growing_Stress_no',\n",
       " 'Growing_Stress_yes',\n",
       " 'Changes_Habits_no',\n",
       " 'Changes_Habits_yes',\n",
       " 'Mental_Health_History_no',\n",
       " 'Mental_Health_History_yes',\n",
       " 'Mood_Swings_low',\n",
       " 'Mood_Swings_medium',\n",
       " 'Work_Interest_no',\n",
       " 'Work_Interest_yes',\n",
       " 'Social_Weakness_no',\n",
       " 'Social_Weakness_yes',\n",
       " 'mental_health_interview_no',\n",
       " 'mental_health_interview_yes',\n",
       " 'care_options_not sure',\n",
       " 'care_options_yes']"
      ]
     },
     "execution_count": 33,
     "metadata": {},
     "output_type": "execute_result"
    }
   ],
   "source": [
    "df.columns.tolist()"
   ]
  },
  {
   "cell_type": "code",
   "execution_count": 34,
   "metadata": {
    "id": "uJhsX6rz8XUA"
   },
   "outputs": [],
   "source": [
    "#let's start modelling"
   ]
  },
  {
   "cell_type": "code",
   "execution_count": 35,
   "metadata": {
    "id": "THw16cLA811N"
   },
   "outputs": [],
   "source": [
    "X = df.drop(columns=\"treatment\",axis=1)"
   ]
  },
  {
   "cell_type": "code",
   "execution_count": 36,
   "metadata": {
    "id": "d5gQfhah9aUX"
   },
   "outputs": [],
   "source": [
    "y = df['treatment']"
   ]
  },
  {
   "cell_type": "code",
   "execution_count": 37,
   "metadata": {
    "id": "AfPf8d_o9c-5"
   },
   "outputs": [],
   "source": [
    "from sklearn.model_selection import train_test_split\n"
   ]
  },
  {
   "cell_type": "code",
   "execution_count": 38,
   "metadata": {
    "id": "qNsXYtewPqZ5"
   },
   "outputs": [],
   "source": [
    "X_train,X_test,y_train,y_test = train_test_split(X,y,test_size=0.2, random_state=92,stratify=y)\n"
   ]
  },
  {
   "cell_type": "code",
   "execution_count": 39,
   "metadata": {
    "colab": {
     "base_uri": "https://localhost:8080/"
    },
    "executionInfo": {
     "elapsed": 15371,
     "status": "ok",
     "timestamp": 1754369082200,
     "user": {
      "displayName": "Raj Parmar",
      "userId": "13547741718900353635"
     },
     "user_tz": -330
    },
    "id": "CQaVSA0KQJ_2",
    "outputId": "606e795f-a5ff-492f-a715-19cd7d8924a1"
   },
   "outputs": [
    {
     "name": "stdout",
     "output_type": "stream",
     "text": [
      "Accuracy: 0.7163135122193149\n"
     ]
    }
   ],
   "source": [
    "from sklearn.linear_model import LogisticRegression\n",
    "from sklearn.metrics import accuracy_score, confusion_matrix, classification_report\n",
    "\n",
    "model = LogisticRegression(max_iter=1000)\n",
    "model.fit(X_train,y_train)\n",
    "y_pred = model.predict(X_test)\n",
    "\n",
    "print(\"Accuracy:\",accuracy_score(y_test,y_pred))"
   ]
  },
  {
   "cell_type": "code",
   "execution_count": 40,
   "metadata": {
    "colab": {
     "base_uri": "https://localhost:8080/"
    },
    "executionInfo": {
     "elapsed": 77,
     "status": "ok",
     "timestamp": 1754369082283,
     "user": {
      "displayName": "Raj Parmar",
      "userId": "13547741718900353635"
     },
     "user_tz": -330
    },
    "id": "FPXEoMqEaAIL",
    "outputId": "3fe59e73-5b2e-48da-aa25-1b9586a8bcc5"
   },
   "outputs": [
    {
     "name": "stdout",
     "output_type": "stream",
     "text": [
      "\n",
      "confusion matrix:\n",
      " [[21582  7939]\n",
      " [ 8649 20303]]\n"
     ]
    }
   ],
   "source": [
    "print(\"\\nconfusion matrix:\\n\",confusion_matrix(y_test,y_pred,labels=[1,0]))"
   ]
  },
  {
   "cell_type": "code",
   "execution_count": 41,
   "metadata": {
    "colab": {
     "base_uri": "https://localhost:8080/"
    },
    "executionInfo": {
     "elapsed": 25,
     "status": "ok",
     "timestamp": 1754369085423,
     "user": {
      "displayName": "Raj Parmar",
      "userId": "13547741718900353635"
     },
     "user_tz": -330
    },
    "id": "78VE28XFlC5F",
    "outputId": "0f7d3e75-9cbf-453c-8da1-3552fbac0ed6"
   },
   "outputs": [
    {
     "name": "stdout",
     "output_type": "stream",
     "text": [
      "\n",
      "Classification Report:\n",
      "               precision    recall  f1-score   support\n",
      "\n",
      "           0       0.72      0.70      0.71     28952\n",
      "           1       0.71      0.73      0.72     29521\n",
      "\n",
      "    accuracy                           0.72     58473\n",
      "   macro avg       0.72      0.72      0.72     58473\n",
      "weighted avg       0.72      0.72      0.72     58473\n",
      "\n"
     ]
    }
   ],
   "source": [
    "print(\"\\nClassification Report:\\n\", classification_report(y_test, y_pred))\n"
   ]
  },
  {
   "cell_type": "code",
   "execution_count": 42,
   "metadata": {
    "colab": {
     "base_uri": "https://localhost:8080/"
    },
    "executionInfo": {
     "elapsed": 50651,
     "status": "ok",
     "timestamp": 1754369153042,
     "user": {
      "displayName": "Raj Parmar",
      "userId": "13547741718900353635"
     },
     "user_tz": -330
    },
    "id": "NbvOLvcwlONI",
    "outputId": "25d72e20-a18b-42e8-dcf6-176ea426cc06"
   },
   "outputs": [
    {
     "name": "stdout",
     "output_type": "stream",
     "text": [
      "Accuracy: 0.7152531937817455\n",
      "\n",
      "Confusion Matrix:\n",
      " [[19768  9184]\n",
      " [ 7466 22055]]\n",
      "\n",
      "Classification Report:\n",
      "               precision    recall  f1-score   support\n",
      "\n",
      "           0       0.73      0.68      0.70     28952\n",
      "           1       0.71      0.75      0.73     29521\n",
      "\n",
      "    accuracy                           0.72     58473\n",
      "   macro avg       0.72      0.71      0.71     58473\n",
      "weighted avg       0.72      0.72      0.71     58473\n",
      "\n"
     ]
    }
   ],
   "source": [
    "from sklearn.ensemble import RandomForestClassifier\n",
    "rf_model=RandomForestClassifier(n_estimators=100,random_state=42)\n",
    "rf_model.fit(X_train,y_train)\n",
    "y_pred=rf_model.predict(X_test)\n",
    "print(\"Accuracy:\", accuracy_score(y_test, y_pred))\n",
    "print(\"\\nConfusion Matrix:\\n\", confusion_matrix(y_test, y_pred))\n",
    "print(\"\\nClassification Report:\\n\", classification_report(y_test, y_pred))"
   ]
  },
  {
   "cell_type": "code",
   "execution_count": 44,
   "metadata": {
    "colab": {
     "base_uri": "https://localhost:8080/"
    },
    "executionInfo": {
     "elapsed": 9007,
     "status": "ok",
     "timestamp": 1754369192006,
     "user": {
      "displayName": "Raj Parmar",
      "userId": "13547741718900353635"
     },
     "user_tz": -330
    },
    "id": "jJOnpPGUqh7E",
    "outputId": "855d89a3-b65a-4f72-eaaa-2047c9f68c06"
   },
   "outputs": [
    {
     "name": "stderr",
     "output_type": "stream",
     "text": [
      "\n",
      "[notice] A new release of pip is available: 25.0.1 -> 25.2\n",
      "[notice] To update, run: python.exe -m pip install --upgrade pip\n"
     ]
    },
    {
     "name": "stdout",
     "output_type": "stream",
     "text": [
      "Collecting xgboost\n",
      "  Downloading xgboost-3.0.4-py3-none-win_amd64.whl.metadata (2.1 kB)\n",
      "Requirement already satisfied: numpy in c:\\users\\rajpa\\appdata\\local\\programs\\python\\python313\\lib\\site-packages (from xgboost) (2.2.5)\n",
      "Requirement already satisfied: scipy in c:\\users\\rajpa\\appdata\\local\\programs\\python\\python313\\lib\\site-packages (from xgboost) (1.15.3)\n",
      "Downloading xgboost-3.0.4-py3-none-win_amd64.whl (56.8 MB)\n",
      "   ---------------------------------------- 0.0/56.8 MB ? eta -:--:--\n",
      "   ---------------------------------------- 0.5/56.8 MB 8.6 MB/s eta 0:00:07\n",
      "   - -------------------------------------- 1.8/56.8 MB 4.5 MB/s eta 0:00:13\n",
      "   -- ------------------------------------- 3.1/56.8 MB 5.3 MB/s eta 0:00:11\n",
      "   --- ------------------------------------ 4.7/56.8 MB 5.7 MB/s eta 0:00:10\n",
      "   ---- ----------------------------------- 6.0/56.8 MB 5.9 MB/s eta 0:00:09\n",
      "   ----- ---------------------------------- 7.6/56.8 MB 6.0 MB/s eta 0:00:09\n",
      "   ------ --------------------------------- 8.9/56.8 MB 6.1 MB/s eta 0:00:08\n",
      "   ------- -------------------------------- 10.2/56.8 MB 6.2 MB/s eta 0:00:08\n",
      "   -------- ------------------------------- 11.8/56.8 MB 6.3 MB/s eta 0:00:08\n",
      "   --------- ------------------------------ 13.1/56.8 MB 6.3 MB/s eta 0:00:07\n",
      "   ---------- ----------------------------- 14.4/56.8 MB 6.3 MB/s eta 0:00:07\n",
      "   ----------- ---------------------------- 15.7/56.8 MB 6.4 MB/s eta 0:00:07\n",
      "   ------------ --------------------------- 17.3/56.8 MB 6.4 MB/s eta 0:00:07\n",
      "   ------------- -------------------------- 18.6/56.8 MB 6.4 MB/s eta 0:00:06\n",
      "   -------------- ------------------------- 19.9/56.8 MB 6.4 MB/s eta 0:00:06\n",
      "   --------------- ------------------------ 21.5/56.8 MB 6.4 MB/s eta 0:00:06\n",
      "   ---------------- ----------------------- 22.8/56.8 MB 6.5 MB/s eta 0:00:06\n",
      "   ---------------- ----------------------- 24.1/56.8 MB 6.5 MB/s eta 0:00:06\n",
      "   ------------------ --------------------- 25.7/56.8 MB 6.5 MB/s eta 0:00:05\n",
      "   ------------------- -------------------- 27.0/56.8 MB 6.5 MB/s eta 0:00:05\n",
      "   ------------------- -------------------- 28.3/56.8 MB 6.5 MB/s eta 0:00:05\n",
      "   --------------------- ------------------ 29.9/56.8 MB 6.5 MB/s eta 0:00:05\n",
      "   --------------------- ------------------ 31.2/56.8 MB 6.5 MB/s eta 0:00:04\n",
      "   ----------------------- ---------------- 32.8/56.8 MB 6.5 MB/s eta 0:00:04\n",
      "   ----------------------- ---------------- 34.1/56.8 MB 6.5 MB/s eta 0:00:04\n",
      "   ------------------------ --------------- 35.4/56.8 MB 6.5 MB/s eta 0:00:04\n",
      "   ------------------------- -------------- 36.7/56.8 MB 6.5 MB/s eta 0:00:04\n",
      "   -------------------------- ------------- 38.3/56.8 MB 6.6 MB/s eta 0:00:03\n",
      "   --------------------------- ------------ 39.6/56.8 MB 6.6 MB/s eta 0:00:03\n",
      "   ---------------------------- ----------- 40.9/56.8 MB 6.6 MB/s eta 0:00:03\n",
      "   ----------------------------- ---------- 42.5/56.8 MB 6.6 MB/s eta 0:00:03\n",
      "   ------------------------------ --------- 43.8/56.8 MB 6.6 MB/s eta 0:00:02\n",
      "   ------------------------------- -------- 45.4/56.8 MB 6.6 MB/s eta 0:00:02\n",
      "   -------------------------------- ------- 46.7/56.8 MB 6.6 MB/s eta 0:00:02\n",
      "   --------------------------------- ------ 48.2/56.8 MB 6.6 MB/s eta 0:00:02\n",
      "   ----------------------------------- ---- 49.8/56.8 MB 6.6 MB/s eta 0:00:02\n",
      "   ----------------------------------- ---- 51.1/56.8 MB 6.6 MB/s eta 0:00:01\n",
      "   ------------------------------------ --- 52.4/56.8 MB 6.6 MB/s eta 0:00:01\n",
      "   ------------------------------------- -- 53.7/56.8 MB 6.6 MB/s eta 0:00:01\n",
      "   -------------------------------------- - 55.1/56.8 MB 6.6 MB/s eta 0:00:01\n",
      "   ---------------------------------------  56.4/56.8 MB 6.6 MB/s eta 0:00:01\n",
      "   ---------------------------------------- 56.8/56.8 MB 6.5 MB/s eta 0:00:00\n",
      "Installing collected packages: xgboost\n",
      "Successfully installed xgboost-3.0.4\n"
     ]
    },
    {
     "name": "stderr",
     "output_type": "stream",
     "text": [
      "C:\\Users\\rajpa\\AppData\\Local\\Programs\\Python\\Python313\\Lib\\site-packages\\xgboost\\training.py:183: UserWarning: [15:47:24] WARNING: C:\\actions-runner\\_work\\xgboost\\xgboost\\src\\learner.cc:738: \n",
      "Parameters: { \"use_label_encoder\" } are not used.\n",
      "\n",
      "  bst.update(dtrain, iteration=i, fobj=obj)\n"
     ]
    },
    {
     "name": "stdout",
     "output_type": "stream",
     "text": [
      "Accuracy: 0.753082619328579\n",
      "\n",
      "Confusion Matrix:\n",
      " [[20353  8599]\n",
      " [ 5839 23682]]\n",
      "\n",
      "Classification Report:\n",
      "               precision    recall  f1-score   support\n",
      "\n",
      "           0       0.78      0.70      0.74     28952\n",
      "           1       0.73      0.80      0.77     29521\n",
      "\n",
      "    accuracy                           0.75     58473\n",
      "   macro avg       0.76      0.75      0.75     58473\n",
      "weighted avg       0.76      0.75      0.75     58473\n",
      "\n"
     ]
    }
   ],
   "source": [
    "!pip install xgboost\n",
    "\n",
    "from xgboost import XGBClassifier\n",
    "from sklearn.metrics import accuracy_score, confusion_matrix, classification_report\n",
    "\n",
    "# 1. Initialize XGBoost model\n",
    "xgb_model = XGBClassifier(n_estimators=300, max_depth=6, learning_rate=0.1, use_label_encoder=False, eval_metric='logloss', random_state=42)\n",
    "\n",
    "# 2. Train\n",
    "xgb_model.fit(X_train, y_train)\n",
    "\n",
    "# 3. Predict\n",
    "xgb_pred = xgb_model.predict(X_test)\n",
    "\n",
    "# 4. Evaluate\n",
    "print(\"Accuracy:\", accuracy_score(y_test, xgb_pred))\n",
    "print(\"\\nConfusion Matrix:\\n\", confusion_matrix(y_test, xgb_pred))\n",
    "print(\"\\nClassification Report:\\n\", classification_report(y_test, xgb_pred))\n"
   ]
  },
  {
   "cell_type": "code",
   "execution_count": 45,
   "metadata": {
    "id": "DjLsfCiynSH9"
   },
   "outputs": [],
   "source": [
    "#now lets do hyperparameter tuning for XGboost as we got good accuracy for XGboost "
   ]
  },
  {
   "cell_type": "code",
   "execution_count": 46,
   "metadata": {
    "colab": {
     "base_uri": "https://localhost:8080/"
    },
    "executionInfo": {
     "elapsed": 1035651,
     "status": "ok",
     "timestamp": 1754372253597,
     "user": {
      "displayName": "Raj Parmar",
      "userId": "13547741718900353635"
     },
     "user_tz": -330
    },
    "id": "tz-TtzEXpttD",
    "outputId": "4753725a-d8ff-4f75-d26d-d419c987d535"
   },
   "outputs": [
    {
     "name": "stdout",
     "output_type": "stream",
     "text": [
      "Fitting 3 folds for each of 108 candidates, totalling 324 fits\n"
     ]
    },
    {
     "name": "stderr",
     "output_type": "stream",
     "text": [
      "C:\\Users\\rajpa\\AppData\\Local\\Programs\\Python\\Python313\\Lib\\site-packages\\xgboost\\training.py:183: UserWarning: [15:52:39] WARNING: C:\\actions-runner\\_work\\xgboost\\xgboost\\src\\learner.cc:738: \n",
      "Parameters: { \"eval_metrics\", \"sub_sample\", \"use_label_encoder\" } are not used.\n",
      "\n",
      "  bst.update(dtrain, iteration=i, fobj=obj)\n"
     ]
    },
    {
     "name": "stdout",
     "output_type": "stream",
     "text": [
      "Best Parameters: {'colsample_bytree': 0.8, 'learning_rate': 0.3, 'max_depth': 5, 'n_estimators': 150, 'sub_sample': 0.8}\n",
      "Best Accuracy: 0.7549371201598641\n"
     ]
    }
   ],
   "source": [
    "from sklearn.model_selection import GridSearchCV\n",
    "\n",
    "xgb=XGBClassifier(use_label_encoder=False ,eval_metrics='logloss',random_state =42)\n",
    "param_grid={\n",
    "    'n_estimators':[100,150,200],\n",
    "    'max_depth':[3,4,5],\n",
    "    'learning_rate':[0.1,0.2,0.3],\n",
    "    'sub_sample':[0.8,1],\n",
    "    'colsample_bytree':[0.8,1]\n",
    "\n",
    "}\n",
    "\n",
    "grid_search=GridSearchCV(estimator=xgb,param_grid=param_grid,cv=3,scoring='accuracy',verbose=1,n_jobs=-1)\n",
    "grid_search.fit(X_train,y_train)\n",
    "\n",
    "print(\"Best Parameters:\", grid_search.best_params_)\n",
    "print(\"Best Accuracy:\", grid_search.best_score_)\n",
    "\n"
   ]
  },
  {
   "cell_type": "code",
   "execution_count": 1,
   "metadata": {
    "id": "Z9H8XVL7rAw5"
   },
   "outputs": [],
   "source": [
    "#even after hyper-parameter tuning for XGboost algorithm , there is no significant improvement in the model accuracy \n",
    "# So for now we conclude that XGboost algorithm is the best fit algorithm for our case."
   ]
  },
  {
   "cell_type": "code",
   "execution_count": null,
   "metadata": {
    "id": "_ilToFBb1r2v"
   },
   "outputs": [],
   "source": []
  }
 ],
 "metadata": {
  "colab": {
   "authorship_tag": "ABX9TyOH/2+l6Ika5uqQZWGqvmQ/",
   "provenance": [
    {
     "file_id": "1x0F4HMPAhmIPPuT65kFUXRjkvvPKafSA",
     "timestamp": 1755448664561
    }
   ]
  },
  "kernelspec": {
   "display_name": "Python 3",
   "language": "python",
   "name": "python3"
  },
  "language_info": {
   "codemirror_mode": {
    "name": "ipython",
    "version": 3
   },
   "file_extension": ".py",
   "mimetype": "text/x-python",
   "name": "python",
   "nbconvert_exporter": "python",
   "pygments_lexer": "ipython3",
   "version": "3.13.3"
  }
 },
 "nbformat": 4,
 "nbformat_minor": 4
}
